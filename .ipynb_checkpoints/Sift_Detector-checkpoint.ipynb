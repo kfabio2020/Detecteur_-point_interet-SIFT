{
 "cells": [
  {
   "cell_type": "code",
   "execution_count": 130,
   "metadata": {},
   "outputs": [],
   "source": [
    "import numpy as np\n",
    "import os\n",
    "import random\n",
    "from shutil import copyfile\n",
    "import fnmatch\n",
    "import cv2\n",
    "from base64 import main\n",
    "from collections import Counter\n",
    "import shutil\n",
    "from matplotlib import pyplot as plt\n",
    "from sklearn.metrics import confusion_matrix\n",
    "import seaborn as sns"
   ]
  },
  {
   "cell_type": "code",
   "execution_count": 131,
   "metadata": {},
   "outputs": [],
   "source": [
    "#Variables\n",
    "training_folder = 'training'\n",
    "test_folder = 'test'\n",
    "dataset_dir = 'C:\\\\Users\\\\Admin\\Documents\\\\eclipse-workspace\\\\My_sift2\\\\dataset\\\\'\n",
    "imgtest = 'C:\\\\Users\\\\Admin\\\\Documents\\\\eclipse-workspace\\\\My_sift2\\\\test\\\\'"
   ]
  },
  {
   "cell_type": "markdown",
   "metadata": {},
   "source": [
    "## Fonction pour diviser la dataset en train et test"
   ]
  },
  {
   "cell_type": "code",
   "execution_count": 132,
   "metadata": {},
   "outputs": [],
   "source": [
    "def img_train_test_split(datasetFolder, test=test_folder, training=training_folder):\n",
    "    files = os.listdir(datasetFolder)\n",
    "    print(\"Number of dataset : \" + str(len(files)))\n",
    "    # Create target Directory if don't exist\n",
    "    if not os.path.exists(test) and not os.path.exists(training):\n",
    "        os.mkdir(test)\n",
    "        print(\"Directory \", test, \" Created \")\n",
    "        os.mkdir(training)\n",
    "        print(\"Directory \", training, \" Created \")\n",
    "    else:\n",
    "        print(\"Directories  already exists\")\n",
    "\n",
    "    count = 0\n",
    "    dataset = os.path.dirname(datasetFolder) + \"/\" + os.path.basename(datasetFolder)\n",
    "    for file in files:\n",
    "        if count % 2 == 0:\n",
    "            shutil.copy(dataset + '/' + file, test)\n",
    "        else:\n",
    "            shutil.copy(dataset + '/' + file, training)\n",
    "\n",
    "        count = count + 1\n",
    "    print(\"Total files copied : \" + str(count))"
   ]
  },
  {
   "cell_type": "code",
   "execution_count": 133,
   "metadata": {},
   "outputs": [
    {
     "name": "stdout",
     "output_type": "stream",
     "text": [
      "Number of dataset : 792\n",
      "Directories  already exists\n",
      "Total files copied : 792\n"
     ]
    }
   ],
   "source": [
    "img_train_test_split(dataset_dir)"
   ]
  },
  {
   "cell_type": "markdown",
   "metadata": {},
   "source": [
    "## Fonction de convertion d'image en niveau de gris"
   ]
  },
  {
   "cell_type": "code",
   "execution_count": 135,
   "metadata": {},
   "outputs": [],
   "source": [
    "def convertGrayScale(img):\n",
    "    imgGrayScale = cv2.imread(img, cv2.IMREAD_GRAYSCALE)\n",
    "    #classe_name = print(os.path.splitext(img)[0])\n",
    "    file_name = os.path.basename(img)\n",
    "    x = file_name.split('_')\n",
    "    classe = x[0]\n",
    "    return imgGrayScale, classe"
   ]
  },
  {
   "cell_type": "markdown",
   "metadata": {},
   "source": [
    "# Fonction de calcul de descripteurs"
   ]
  },
  {
   "cell_type": "code",
   "execution_count": 136,
   "metadata": {},
   "outputs": [],
   "source": [
    "def calculDescripteurs(train_folder):\n",
    "    descripteur = []\n",
    "    classes =[]\n",
    "    sift = cv2.SIFT_create()\n",
    "    for path, _, files in os.walk(train_folder):\n",
    "        print(path)\n",
    "        for file in files:\n",
    "            if fnmatch.fnmatch(file, '*.png'):\n",
    "                fullname = os.path.join(path, file)\n",
    "                print(fullname)\n",
    "                imgGrayScale, classe = convertGrayScale(fullname)\n",
    "                classes.append(classe)\n",
    "                try:\n",
    "                    _, desc =  sift.detectAndCompute(imgGrayScale, None)\n",
    "                    descripteur.append(desc)\n",
    "                except:\n",
    "                    print(fullname)\n",
    "    \n",
    "    return descripteur, classes"
   ]
  },
  {
   "cell_type": "markdown",
   "metadata": {},
   "source": [
    "# Fonction de matching"
   ]
  },
  {
   "cell_type": "code",
   "execution_count": 172,
   "metadata": {},
   "outputs": [],
   "source": [
    "def matching(testImg, descripteurTrain):\n",
    "    sift = cv2.SIFT_create()\n",
    "    score = [0] * len(descripteurTrain)\n",
    "    imgTestGrayScale, label_test = convertGrayScale(testImg)\n",
    "    _, desc =  sift.detectAndCompute(imgTestGrayScale, None)\n",
    "    FLANN_INDEX_KDTREE = 1\n",
    "    index_params = dict(algorithm=FLANN_INDEX_KDTREE, trees=5)\n",
    "    search_params = dict(checks=200)\n",
    "    flann = cv2.FlannBasedMatcher(index_params, search_params)\n",
    "    for i, imgtrain in enumerate(descripteurTrain):\n",
    "        if imgtrain is not None:\n",
    "            #print(imgtrain)\n",
    "            matches =  flann.knnMatch(desc, imgtrain, 2)\n",
    "            good = []\n",
    "            for m,n  in matches:\n",
    "                if m.distance < 0.75 * n.distance:\n",
    "                    good.append([m])\n",
    "            score[i] = len(good)\n",
    "        else:\n",
    "            score[i] = 0\n",
    "    return score, label_test"
   ]
  },
  {
   "cell_type": "markdown",
   "metadata": {},
   "source": [
    "# Fonction pour determiner les meilleurs"
   ]
  },
  {
   "cell_type": "code",
   "execution_count": 149,
   "metadata": {},
   "outputs": [],
   "source": [
    "def get_K_best(scores, k, label_train):\n",
    "    label_best = [0] * k\n",
    "    for i in range(k):\n",
    "        best = max(scores)\n",
    "        ind  = scores.index(best)\n",
    "        label_best[i] = label_train[ind]\n",
    "        scores[ind] = -1\n",
    "    return label_best"
   ]
  },
  {
   "cell_type": "markdown",
   "metadata": {},
   "source": [
    "# Fonction de prédiction"
   ]
  },
  {
   "cell_type": "code",
   "execution_count": 150,
   "metadata": {},
   "outputs": [],
   "source": [
    "def predict(label_best):\n",
    "    occurence = Counter(label_best)\n",
    "    return [k for k, _ in occurence.most_common()][0]"
   ]
  },
  {
   "cell_type": "markdown",
   "metadata": {},
   "source": [
    "## Fonction d'évaluation"
   ]
  },
  {
   "cell_type": "code",
   "execution_count": 179,
   "metadata": {},
   "outputs": [],
   "source": [
    "def evaluate(K, test_folder):\n",
    "    label_predits = []\n",
    "    labels_test = []\n",
    "    for path, _, files in os.walk(test_folder):\n",
    "        for file in files:\n",
    "            if fnmatch.fnmatch(file, '*.png'):\n",
    "                fullname = os.path.join(path, file)\n",
    "                score, label_test = matching(fullname, descripteurs)\n",
    "                labels_test.append(label_test)\n",
    "                label_best = get_K_best(score, 3, classes)\n",
    "                label_predit = predict(label_best)\n",
    "                label_predits.append(label_predit)\n",
    "    return labels_test, label_predits"
   ]
  },
  {
   "cell_type": "code",
   "execution_count": 180,
   "metadata": {},
   "outputs": [
    {
     "name": "stdout",
     "output_type": "stream",
     "text": [
      "training\n",
      "training\\obj10__10.png\n",
      "training\\obj10__105.png\n",
      "training\\obj10__115.png\n",
      "training\\obj10__125.png\n",
      "training\\obj10__135.png\n",
      "training\\obj10__145.png\n",
      "training\\obj10__150.png\n",
      "training\\obj10__160.png\n",
      "training\\obj10__170.png\n",
      "training\\obj10__180.png\n",
      "training\\obj10__190.png\n",
      "training\\obj10__20.png\n",
      "training\\obj10__205.png\n",
      "training\\obj10__215.png\n",
      "training\\obj10__225.png\n",
      "training\\obj10__235.png\n",
      "training\\obj10__245.png\n",
      "training\\obj10__250.png\n",
      "training\\obj10__260.png\n",
      "training\\obj10__270.png\n",
      "training\\obj10__280.png\n",
      "training\\obj10__290.png\n",
      "training\\obj10__30.png\n",
      "training\\obj10__305.png\n",
      "training\\obj10__315.png\n",
      "training\\obj10__325.png\n",
      "training\\obj10__335.png\n",
      "training\\obj10__345.png\n",
      "training\\obj10__350.png\n",
      "training\\obj10__40.png\n",
      "training\\obj10__5.png\n",
      "training\\obj10__55.png\n",
      "training\\obj10__65.png\n",
      "training\\obj10__75.png\n",
      "training\\obj10__85.png\n",
      "training\\obj10__95.png\n",
      "training\\obj11__10.png\n",
      "training\\obj11__105.png\n",
      "training\\obj11__115.png\n",
      "training\\obj11__125.png\n",
      "training\\obj11__135.png\n",
      "training\\obj11__145.png\n",
      "training\\obj11__150.png\n",
      "training\\obj11__160.png\n",
      "training\\obj11__170.png\n",
      "training\\obj11__180.png\n",
      "training\\obj11__190.png\n",
      "training\\obj11__20.png\n",
      "training\\obj11__205.png\n",
      "training\\obj11__215.png\n",
      "training\\obj11__225.png\n",
      "training\\obj11__235.png\n",
      "training\\obj11__245.png\n",
      "training\\obj11__250.png\n",
      "training\\obj11__260.png\n",
      "training\\obj11__270.png\n",
      "training\\obj11__280.png\n",
      "training\\obj11__290.png\n",
      "training\\obj11__30.png\n",
      "training\\obj11__305.png\n",
      "training\\obj11__315.png\n",
      "training\\obj11__325.png\n",
      "training\\obj11__335.png\n",
      "training\\obj11__345.png\n",
      "training\\obj11__350.png\n",
      "training\\obj11__40.png\n",
      "training\\obj11__5.png\n",
      "training\\obj11__55.png\n",
      "training\\obj11__65.png\n",
      "training\\obj11__75.png\n",
      "training\\obj11__85.png\n",
      "training\\obj11__95.png\n",
      "training\\obj12__10.png\n",
      "training\\obj12__105.png\n",
      "training\\obj12__115.png\n",
      "training\\obj12__125.png\n",
      "training\\obj12__135.png\n",
      "training\\obj12__145.png\n",
      "training\\obj12__150.png\n",
      "training\\obj12__160.png\n",
      "training\\obj12__170.png\n",
      "training\\obj12__180.png\n",
      "training\\obj12__190.png\n",
      "training\\obj12__20.png\n",
      "training\\obj12__205.png\n",
      "training\\obj12__215.png\n",
      "training\\obj12__225.png\n",
      "training\\obj12__235.png\n",
      "training\\obj12__245.png\n",
      "training\\obj12__250.png\n",
      "training\\obj12__260.png\n",
      "training\\obj12__270.png\n",
      "training\\obj12__280.png\n",
      "training\\obj12__290.png\n",
      "training\\obj12__30.png\n",
      "training\\obj12__305.png\n",
      "training\\obj12__315.png\n",
      "training\\obj12__325.png\n",
      "training\\obj12__335.png\n",
      "training\\obj12__345.png\n",
      "training\\obj12__350.png\n",
      "training\\obj12__40.png\n",
      "training\\obj12__5.png\n",
      "training\\obj12__55.png\n",
      "training\\obj12__65.png\n",
      "training\\obj12__75.png\n",
      "training\\obj12__85.png\n",
      "training\\obj12__95.png\n",
      "training\\obj1__10.png\n",
      "training\\obj1__105.png\n",
      "training\\obj1__115.png\n",
      "training\\obj1__125.png\n",
      "training\\obj1__135.png\n",
      "training\\obj1__145.png\n",
      "training\\obj1__150.png\n",
      "training\\obj1__160.png\n",
      "training\\obj1__170.png\n",
      "training\\obj1__180.png\n",
      "training\\obj1__190.png\n",
      "training\\obj1__20.png\n",
      "training\\obj1__205.png\n",
      "training\\obj1__215.png\n",
      "training\\obj1__225.png\n",
      "training\\obj1__235.png\n",
      "training\\obj1__245.png\n",
      "training\\obj1__250.png\n",
      "training\\obj1__260.png\n",
      "training\\obj1__270.png\n",
      "training\\obj1__280.png\n",
      "training\\obj1__290.png\n",
      "training\\obj1__30.png\n",
      "training\\obj1__305.png\n",
      "training\\obj1__315.png\n",
      "training\\obj1__325.png\n",
      "training\\obj1__335.png\n",
      "training\\obj1__345.png\n",
      "training\\obj1__350.png\n",
      "training\\obj1__40.png\n",
      "training\\obj1__5.png\n",
      "training\\obj1__55.png\n",
      "training\\obj1__65.png\n",
      "training\\obj1__75.png\n",
      "training\\obj1__85.png\n",
      "training\\obj1__95.png\n",
      "training\\obj3__10.png\n",
      "training\\obj3__105.png\n",
      "training\\obj3__115.png\n",
      "training\\obj3__125.png\n",
      "training\\obj3__135.png\n",
      "training\\obj3__145.png\n",
      "training\\obj3__150.png\n",
      "training\\obj3__160.png\n",
      "training\\obj3__170.png\n",
      "training\\obj3__180.png\n",
      "training\\obj3__190.png\n",
      "training\\obj3__20.png\n",
      "training\\obj3__205.png\n",
      "training\\obj3__215.png\n",
      "training\\obj3__225.png\n",
      "training\\obj3__235.png\n",
      "training\\obj3__245.png\n",
      "training\\obj3__250.png\n",
      "training\\obj3__260.png\n",
      "training\\obj3__270.png\n",
      "training\\obj3__280.png\n",
      "training\\obj3__290.png\n",
      "training\\obj3__30.png\n",
      "training\\obj3__305.png\n",
      "training\\obj3__315.png\n",
      "training\\obj3__325.png\n",
      "training\\obj3__335.png\n",
      "training\\obj3__345.png\n",
      "training\\obj3__350.png\n",
      "training\\obj3__40.png\n",
      "training\\obj3__5.png\n",
      "training\\obj3__55.png\n",
      "training\\obj3__65.png\n",
      "training\\obj3__75.png\n",
      "training\\obj3__85.png\n",
      "training\\obj3__95.png\n",
      "training\\obj4__10.png\n",
      "training\\obj4__105.png\n",
      "training\\obj4__115.png\n",
      "training\\obj4__125.png\n",
      "training\\obj4__135.png\n",
      "training\\obj4__145.png\n",
      "training\\obj4__150.png\n",
      "training\\obj4__160.png\n",
      "training\\obj4__170.png\n",
      "training\\obj4__180.png\n",
      "training\\obj4__190.png\n",
      "training\\obj4__20.png\n",
      "training\\obj4__205.png\n",
      "training\\obj4__215.png\n",
      "training\\obj4__225.png\n",
      "training\\obj4__235.png\n",
      "training\\obj4__245.png\n",
      "training\\obj4__250.png\n",
      "training\\obj4__260.png\n",
      "training\\obj4__270.png\n",
      "training\\obj4__280.png\n",
      "training\\obj4__290.png\n",
      "training\\obj4__30.png\n",
      "training\\obj4__305.png\n",
      "training\\obj4__315.png\n",
      "training\\obj4__325.png\n",
      "training\\obj4__335.png\n",
      "training\\obj4__345.png\n",
      "training\\obj4__350.png\n",
      "training\\obj4__40.png\n",
      "training\\obj4__5.png\n",
      "training\\obj4__55.png\n",
      "training\\obj4__65.png\n",
      "training\\obj4__75.png\n",
      "training\\obj4__85.png\n",
      "training\\obj4__95.png\n",
      "training\\obj5__10.png\n",
      "training\\obj5__105.png\n",
      "training\\obj5__115.png\n",
      "training\\obj5__125.png\n",
      "training\\obj5__135.png\n",
      "training\\obj5__145.png\n",
      "training\\obj5__150.png\n",
      "training\\obj5__160.png\n",
      "training\\obj5__170.png\n",
      "training\\obj5__180.png\n",
      "training\\obj5__190.png\n",
      "training\\obj5__20.png\n",
      "training\\obj5__205.png\n",
      "training\\obj5__215.png\n",
      "training\\obj5__225.png\n",
      "training\\obj5__235.png\n",
      "training\\obj5__245.png\n",
      "training\\obj5__250.png\n",
      "training\\obj5__260.png\n",
      "training\\obj5__270.png\n",
      "training\\obj5__280.png\n",
      "training\\obj5__290.png\n",
      "training\\obj5__30.png\n",
      "training\\obj5__305.png\n",
      "training\\obj5__315.png\n",
      "training\\obj5__325.png\n",
      "training\\obj5__335.png\n",
      "training\\obj5__345.png\n",
      "training\\obj5__350.png\n",
      "training\\obj5__40.png\n",
      "training\\obj5__5.png\n",
      "training\\obj5__55.png\n",
      "training\\obj5__65.png\n",
      "training\\obj5__75.png\n",
      "training\\obj5__85.png\n",
      "training\\obj5__95.png\n",
      "training\\obj6__10.png\n",
      "training\\obj6__105.png\n",
      "training\\obj6__115.png\n",
      "training\\obj6__125.png\n",
      "training\\obj6__135.png\n",
      "training\\obj6__145.png\n",
      "training\\obj6__150.png\n",
      "training\\obj6__160.png\n",
      "training\\obj6__170.png\n",
      "training\\obj6__180.png\n",
      "training\\obj6__190.png\n",
      "training\\obj6__20.png\n",
      "training\\obj6__205.png\n",
      "training\\obj6__215.png\n",
      "training\\obj6__225.png\n",
      "training\\obj6__235.png\n",
      "training\\obj6__245.png\n",
      "training\\obj6__250.png\n",
      "training\\obj6__260.png\n",
      "training\\obj6__270.png\n",
      "training\\obj6__280.png\n",
      "training\\obj6__290.png\n",
      "training\\obj6__30.png\n",
      "training\\obj6__305.png\n",
      "training\\obj6__315.png\n",
      "training\\obj6__325.png\n",
      "training\\obj6__335.png\n",
      "training\\obj6__345.png\n",
      "training\\obj6__350.png\n",
      "training\\obj6__40.png\n",
      "training\\obj6__5.png\n",
      "training\\obj6__55.png\n",
      "training\\obj6__65.png\n",
      "training\\obj6__75.png\n",
      "training\\obj6__85.png\n",
      "training\\obj6__95.png\n",
      "training\\obj7__10.png\n",
      "training\\obj7__105.png\n",
      "training\\obj7__115.png\n",
      "training\\obj7__125.png\n",
      "training\\obj7__135.png\n",
      "training\\obj7__145.png\n",
      "training\\obj7__150.png\n",
      "training\\obj7__160.png\n",
      "training\\obj7__170.png\n",
      "training\\obj7__180.png\n",
      "training\\obj7__190.png\n",
      "training\\obj7__20.png\n",
      "training\\obj7__205.png\n",
      "training\\obj7__215.png\n",
      "training\\obj7__225.png\n",
      "training\\obj7__235.png\n",
      "training\\obj7__245.png\n",
      "training\\obj7__250.png\n",
      "training\\obj7__260.png\n",
      "training\\obj7__270.png\n",
      "training\\obj7__280.png\n",
      "training\\obj7__290.png\n",
      "training\\obj7__30.png\n",
      "training\\obj7__305.png\n",
      "training\\obj7__315.png\n",
      "training\\obj7__325.png\n",
      "training\\obj7__335.png\n",
      "training\\obj7__345.png\n",
      "training\\obj7__350.png\n",
      "training\\obj7__40.png\n",
      "training\\obj7__5.png\n",
      "training\\obj7__55.png\n",
      "training\\obj7__65.png\n",
      "training\\obj7__75.png\n",
      "training\\obj7__85.png\n",
      "training\\obj7__95.png\n",
      "training\\obj8__10.png\n",
      "training\\obj8__105.png\n",
      "training\\obj8__115.png\n",
      "training\\obj8__125.png\n",
      "training\\obj8__135.png\n",
      "training\\obj8__145.png\n",
      "training\\obj8__150.png\n",
      "training\\obj8__160.png\n",
      "training\\obj8__170.png\n",
      "training\\obj8__180.png\n",
      "training\\obj8__190.png\n",
      "training\\obj8__20.png\n",
      "training\\obj8__205.png\n",
      "training\\obj8__215.png\n",
      "training\\obj8__225.png\n",
      "training\\obj8__235.png\n",
      "training\\obj8__245.png\n",
      "training\\obj8__250.png\n",
      "training\\obj8__260.png\n",
      "training\\obj8__270.png\n",
      "training\\obj8__280.png\n",
      "training\\obj8__290.png\n",
      "training\\obj8__30.png\n",
      "training\\obj8__305.png\n",
      "training\\obj8__315.png\n",
      "training\\obj8__325.png\n",
      "training\\obj8__335.png\n",
      "training\\obj8__345.png\n",
      "training\\obj8__350.png\n",
      "training\\obj8__40.png\n",
      "training\\obj8__5.png\n",
      "training\\obj8__55.png\n",
      "training\\obj8__65.png\n",
      "training\\obj8__75.png\n",
      "training\\obj8__85.png\n",
      "training\\obj8__95.png\n",
      "training\\obj9__10.png\n",
      "training\\obj9__105.png\n",
      "training\\obj9__115.png\n"
     ]
    },
    {
     "name": "stdout",
     "output_type": "stream",
     "text": [
      "training\\obj9__125.png\n",
      "training\\obj9__135.png\n",
      "training\\obj9__145.png\n",
      "training\\obj9__150.png\n",
      "training\\obj9__160.png\n",
      "training\\obj9__170.png\n",
      "training\\obj9__180.png\n",
      "training\\obj9__190.png\n",
      "training\\obj9__20.png\n",
      "training\\obj9__205.png\n",
      "training\\obj9__215.png\n",
      "training\\obj9__225.png\n",
      "training\\obj9__235.png\n",
      "training\\obj9__245.png\n",
      "training\\obj9__250.png\n",
      "training\\obj9__260.png\n",
      "training\\obj9__270.png\n",
      "training\\obj9__280.png\n",
      "training\\obj9__290.png\n",
      "training\\obj9__30.png\n",
      "training\\obj9__305.png\n",
      "training\\obj9__315.png\n",
      "training\\obj9__325.png\n",
      "training\\obj9__335.png\n",
      "training\\obj9__345.png\n",
      "training\\obj9__350.png\n",
      "training\\obj9__40.png\n",
      "training\\obj9__5.png\n",
      "training\\obj9__55.png\n",
      "training\\obj9__65.png\n",
      "training\\obj9__75.png\n",
      "training\\obj9__85.png\n",
      "training\\obj9__95.png\n"
     ]
    }
   ],
   "source": [
    "descripteurs, classes = calculDescripteurs(training_folder)"
   ]
  },
  {
   "cell_type": "code",
   "execution_count": 176,
   "metadata": {
    "scrolled": false
   },
   "outputs": [
    {
     "data": {
      "image/png": "[encoded data removed]",
      "text/plain": [
       "<Figure size 432x288 with 1 Axes>"
      ]
     },
     "metadata": {
      "needs_background": "light"
     },
     "output_type": "display_data"
    },
    {
     "name": "stdout",
     "output_type": "stream",
     "text": [
      "obj4\n",
      "['obj4', 'obj4', 'obj4']\n",
      "La classe predictie est : obj4\n"
     ]
    }
   ],
   "source": [
    "imgTest = test_folder+'\\\\obj4__285.png'\n",
    "img = cv2.imread(imgTest, 0)\n",
    "plt.imshow(img)\n",
    "plt.show()\n",
    "score, label_test = matching(imgTest, descripteurs)\n",
    "print(label_test)\n",
    "label_best = get_K_best(score, 3, classes)\n",
    "print(label_best)\n",
    "label_predit = predict(label_best)\n",
    "print('La classe predictie est :', label_predit)"
   ]
  },
  {
   "cell_type": "code",
   "execution_count": 181,
   "metadata": {},
   "outputs": [
    {
     "ename": "TypeError",
     "evalue": "evaluate() takes 1 positional argument but 2 were given",
     "output_type": "error",
     "traceback": [
      "\u001b[1;31m---------------------------------------------------------------------------\u001b[0m",
      "\u001b[1;31mTypeError\u001b[0m                                 Traceback (most recent call last)",
      "\u001b[1;32m<ipython-input-181-35c69b031ec3>\u001b[0m in \u001b[0;36m<module>\u001b[1;34m\u001b[0m\n\u001b[1;32m----> 1\u001b[1;33m \u001b[0mlabels_test\u001b[0m\u001b[1;33m,\u001b[0m \u001b[0mlabel_predits\u001b[0m \u001b[1;33m=\u001b[0m \u001b[0mevaluate\u001b[0m\u001b[1;33m(\u001b[0m\u001b[1;36m3\u001b[0m\u001b[1;33m,\u001b[0m \u001b[0mimgtest\u001b[0m\u001b[1;33m)\u001b[0m\u001b[1;33m\u001b[0m\u001b[1;33m\u001b[0m\u001b[0m\n\u001b[0m",
      "\u001b[1;31mTypeError\u001b[0m: evaluate() takes 1 positional argument but 2 were given"
     ]
    }
   ],
   "source": [
    "labels_test, label_predits = evaluate(3, imgtest)"
   ]
  },
  {
   "cell_type": "code",
   "execution_count": 155,
   "metadata": {},
   "outputs": [],
   "source": [
    "comp = [labels_test[i]==label_predits[i] for i in range(len(labels_test))]"
   ]
  },
  {
   "cell_type": "code",
   "execution_count": 156,
   "metadata": {},
   "outputs": [
    {
     "name": "stdout",
     "output_type": "stream",
     "text": [
      "42.676767676767675\n"
     ]
    }
   ],
   "source": [
    "print(sum(comp)/len(comp)*100)"
   ]
  },
  {
   "cell_type": "markdown",
   "metadata": {},
   "source": [
    "## Matrice de confusion"
   ]
  },
  {
   "cell_type": "code",
   "execution_count": 111,
   "metadata": {
    "scrolled": true
   },
   "outputs": [
    {
     "data": {
      "text/plain": [
       "array([[ 0,  0,  2, 34,  0,  0,  0,  0,  0,  0,  0],\n",
       "       [ 0, 36,  0,  0,  0,  0,  0,  0,  0,  0,  0],\n",
       "       [ 0,  0, 20, 16,  0,  0,  0,  0,  0,  0,  0],\n",
       "       [ 0,  0,  0, 36,  0,  0,  0,  0,  0,  0,  0],\n",
       "       [ 0,  2,  0, 33,  0,  1,  0,  0,  0,  0,  0],\n",
       "       [ 0,  0,  0,  1,  0, 35,  0,  0,  0,  0,  0],\n",
       "       [ 0,  1,  0, 22,  0,  0,  9,  0,  0,  0,  4],\n",
       "       [ 0,  0,  2, 31,  0,  0,  0,  3,  0,  0,  0],\n",
       "       [ 0,  0,  1, 30,  0,  1,  0,  0,  4,  0,  0],\n",
       "       [ 0,  0,  2, 30,  0,  1,  0,  0,  0,  3,  0],\n",
       "       [ 0,  0,  0, 12,  0,  0,  0,  0,  0,  0, 24]], dtype=int64)"
      ]
     },
     "execution_count": 111,
     "metadata": {},
     "output_type": "execute_result"
    }
   ],
   "source": [
    "conf = confusion_matrix(labels_test, label_predits)\n",
    "conf"
   ]
  },
  {
   "cell_type": "code",
   "execution_count": 112,
   "metadata": {},
   "outputs": [],
   "source": [
    "def classesNames():\n",
    "    classeList = []\n",
    "    for path, _, files in os.walk(training_folder):\n",
    "        for file in files:\n",
    "            file_name = os.path.basename(file)\n",
    "            x = file_name.split('_')\n",
    "            classe = x[0]\n",
    "            classeList.append(classe)\n",
    "    classeList = list(set(classeList))\n",
    "    classeList.sort()\n",
    "    print(classeList)\n",
    "    return classeList"
   ]
  },
  {
   "cell_type": "code",
   "execution_count": 113,
   "metadata": {},
   "outputs": [
    {
     "name": "stdout",
     "output_type": "stream",
     "text": [
      "['obj1', 'obj10', 'obj11', 'obj12', 'obj3', 'obj4', 'obj5', 'obj6', 'obj7', 'obj8', 'obj9']\n"
     ]
    }
   ],
   "source": [
    "class_names = classesNames()"
   ]
  },
  {
   "cell_type": "code",
   "execution_count": null,
   "metadata": {},
   "outputs": [],
   "source": []
  },
  {
   "cell_type": "code",
   "execution_count": 115,
   "metadata": {
    "scrolled": true
   },
   "outputs": [
    {
     "data": {
      "image/png": "[encoded data removed]",
      "text/plain": [
       "<Figure size 1080x1080 with 2 Axes>"
      ]
     },
     "metadata": {
      "needs_background": "light"
     },
     "output_type": "display_data"
    }
   ],
   "source": [
    "fig, ax = plt.subplots(figsize=(15,15)) \n",
    "sns.heatmap(conf, square=True, annot=True, cbar=True, ax=ax\n",
    "                , xticklabels=class_names\n",
    "                , yticklabels=class_names)\n",
    "plt.show()"
   ]
  },
  {
   "cell_type": "code",
   "execution_count": null,
   "metadata": {},
   "outputs": [],
   "source": []
  }
 ],
 "metadata": {
  "kernelspec": {
   "display_name": "Python 3",
   "language": "python",
   "name": "python3"
  },
  "language_info": {
   "codemirror_mode": {
    "name": "ipython",
    "version": 3
   },
   "file_extension": ".py",
   "mimetype": "text/x-python",
   "name": "python",
   "nbconvert_exporter": "python",
   "pygments_lexer": "ipython3",
   "version": "3.8.3"
  }
 },
 "nbformat": 4,
 "nbformat_minor": 4
}
